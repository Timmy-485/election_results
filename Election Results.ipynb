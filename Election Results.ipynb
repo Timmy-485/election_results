{
 "cells": [
  {
   "cell_type": "code",
   "execution_count": null,
   "id": "a1f6b7b7",
   "metadata": {},
   "outputs": [],
   "source": [
    "import codecademylib\n",
    "import numpy as np\n",
    "from matplotlib import pyplot as plt\n",
    "\n",
    "survey_responses = ['Ceballos', 'Kerrigan', 'Ceballos', 'Ceballos', 'Ceballos','Kerrigan', 'Kerrigan', 'Ceballos', 'Ceballos', 'Ceballos', \n",
    "'Kerrigan', 'Kerrigan', 'Ceballos', 'Ceballos', 'Kerrigan', 'Kerrigan', 'Ceballos', 'Ceballos', 'Kerrigan', 'Kerrigan', 'Kerrigan', 'Kerrigan', 'Kerrigan', 'Kerrigan', 'Ceballos', 'Ceballos', 'Ceballos', 'Ceballos', 'Ceballos', 'Ceballos',\n",
    "'Kerrigan', 'Kerrigan', 'Ceballos', 'Ceballos', 'Ceballos', 'Kerrigan', 'Kerrigan', 'Ceballos', 'Ceballos', 'Kerrigan', 'Kerrigan', 'Ceballos', 'Ceballos', 'Kerrigan', 'Kerrigan', 'Kerrigan', 'Kerrigan', 'Kerrigan', 'Kerrigan', 'Ceballos',\n",
    "'Kerrigan', 'Kerrigan', 'Ceballos', 'Ceballos', 'Ceballos', 'Kerrigan', 'Kerrigan', 'Ceballos', 'Ceballos', 'Kerrigan', 'Kerrigan', 'Ceballos', 'Ceballos', 'Kerrigan', 'Kerrigan', 'Kerrigan', 'Kerrigan', 'Kerrigan', 'Kerrigan', 'Ceballos']\n",
    "\n",
    "\n",
    "\n",
    "total_ceballos = sum([1 for x in survey_responses if x == \"Ceballos\"])\n",
    "print(total_ceballos)\n",
    "percentage_ceballos = (total_ceballos/ float(len(survey_responses)))*100\n",
    "print(percentage_ceballos)\n",
    "\n",
    "\n",
    "\n",
    "survey_len = float(len(survey_responses))\n",
    "possible_surveys = np.random.binomial(survey_len, 0.54, size=10000) / survey_len\n",
    "\n",
    "\n",
    "plt.hist(possible_surveys, range=(0, 1), bins=20)\n",
    "plt.show()\n",
    "\n",
    "\n",
    "possible_surveys_len = float(len(possible_surveys))\n",
    "wrong_predict = len(possible_surveys[possible_surveys < .5])\n",
    "ceballos_loss_surveys = wrong_predict/possible_surveys_len\n",
    "print(ceballos_loss_surveys)\n",
    "\n",
    "large_survey = np.random.binomial(float(7000), .54, size=10000)/float(7000)\n",
    "\n",
    "large_survey_incorrect = len(large_survey[large_survey < .5])\n",
    "ceballos_loss_new = large_survey_incorrect/ float(len(large_survey))\n",
    "print(ceballos_loss_new)"
   ]
  }
 ],
 "metadata": {
  "kernelspec": {
   "display_name": "Python 3",
   "language": "python",
   "name": "python3"
  },
  "language_info": {
   "codemirror_mode": {
    "name": "ipython",
    "version": 3
   },
   "file_extension": ".py",
   "mimetype": "text/x-python",
   "name": "python",
   "nbconvert_exporter": "python",
   "pygments_lexer": "ipython3",
   "version": "3.8.8"
  }
 },
 "nbformat": 4,
 "nbformat_minor": 5
}
